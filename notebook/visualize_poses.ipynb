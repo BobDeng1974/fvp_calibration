{
 "cells": [
  {
   "cell_type": "code",
   "execution_count": null,
   "metadata": {},
   "outputs": [],
   "source": [
    "import os\n",
    "from collections import OrderedDict\n",
    "import numpy as np\n",
    "import cv2\n",
    "from PIL import Image\n",
    "from os.path import join\n",
    "\n",
    "import matplotlib\n",
    "import matplotlib.pyplot as plt\n",
    "from matplotlib import animation\n",
    "from mpl_toolkits.mplot3d import Axes3D\n",
    "matplotlib.rcParams['image.cmap'] = 'gray'\n",
    "np.set_printoptions(precision=4)\n",
    "# %matplotlib"
   ]
  },
  {
   "cell_type": "code",
   "execution_count": null,
   "metadata": {},
   "outputs": [],
   "source": [
    "FOLDER =  '../data'\n",
    "SQUARE_SIZE = 0.159\n",
    "objpts = [[0,0,0],[1,0,0],[1,1,0],[0,1,0]]\n",
    "objpts = np.array(objpts)[:,np.newaxis]*SQUARE_SIZE"
   ]
  },
  {
   "cell_type": "markdown",
   "metadata": {},
   "source": [
    "# Visualize initial pose"
   ]
  },
  {
   "cell_type": "code",
   "execution_count": null,
   "metadata": {},
   "outputs": [],
   "source": [
    "fs_read = cv2.FileStorage(join(FOLDER, \"initial_camera_poses.yml\"), cv2.FILE_STORAGE_READ)\n",
    "T = {}\n",
    "for key in fs_read.root().keys():\n",
    "    print(key)\n",
    "    T[key] = fs_read.getNode(key).mat()\n",
    "ORIGIN = key[:4]"
   ]
  },
  {
   "cell_type": "code",
   "execution_count": null,
   "metadata": {},
   "outputs": [],
   "source": [
    "def drawAxis(T=np.eye(4) ,scale=0.3, colors=['r', 'g', 'b']):\n",
    "    tvec = T[:3,3]\n",
    "    R = T[:3,:3]\n",
    "    start = tvec.flatten()[np.newaxis].repeat(3, axis=0)\n",
    "    end = start + scale * R.T\n",
    "    for s, e, c in zip(start, end, colors):\n",
    "        ax.plot([s[0], e[0]], [s[1], e[1]], [s[2], e[2]], c=c)\n",
    "        \n",
    "%matplotlib notebook"
   ]
  },
  {
   "cell_type": "code",
   "execution_count": null,
   "metadata": {},
   "outputs": [],
   "source": [
    "# 3D Plot\n",
    "fig = plt.figure(figsize=(8, 6))\n",
    "ax = Axes3D(fig)\n",
    "ax.set_xlabel('X')\n",
    "ax.set_ylabel('Y')\n",
    "ax.set_zlabel('Z')\n",
    "#ax.axis('off')\n",
    "c = ['c', 'y', 'b', 'b']\n",
    "\n",
    "# Camera\n",
    "for i in range(4):\n",
    "    colors = ['r', 'g', c[i]]\n",
    "    key = f'{ORIGIN}img{i}'\n",
    "    drawAxis(T[key], 0.3, colors)\n",
    "    \n",
    "# tag\n",
    "for i in range(4):\n",
    "    if int(ORIGIN[-1]) == i:\n",
    "        continue\n",
    "    key = f'{ORIGIN}tag{i}'\n",
    "    drawAxis(T[key], 0.1)\n",
    "    pts = T[key][:3,:3].dot(objpts.squeeze().T) + T[key][:3,3:4]\n",
    "    ax.scatter(pts[0], pts[1], zs=pts[2])\n",
    "\n",
    "# Origin\n",
    "drawAxis(scale=0.15)\n",
    "#pts origin\n",
    "ax.scatter(objpts[:,:,0].flatten(), objpts[:,:,1].flatten(), zs=objpts[:,:,2].flatten())\n",
    "\n",
    "# adjust scale\n",
    "start = np.zeros((3, 3)) - 1.0\n",
    "end = start + 2.0 * np.eye(3)\n",
    "for s, e in zip(start, end):\n",
    "    ax.plot([s[0], e[0]], [s[1], e[1]], [s[2], e[2]], c='none')\n",
    "    \n",
    "\n",
    "\n"
   ]
  },
  {
   "cell_type": "markdown",
   "metadata": {},
   "source": [
    "# Visualize refined poses"
   ]
  },
  {
   "cell_type": "code",
   "execution_count": null,
   "metadata": {},
   "outputs": [],
   "source": [
    "fs_read = cv2.FileStorage(join(FOLDER, \"refined_camera_poses.yml\"), cv2.FILE_STORAGE_READ)\n",
    "T = {}\n",
    "for key in fs_read.root().keys():\n",
    "    print(key)\n",
    "    T[key] = fs_read.getNode(key).mat()"
   ]
  },
  {
   "cell_type": "code",
   "execution_count": null,
   "metadata": {},
   "outputs": [],
   "source": [
    "def getRotation(angle):\n",
    "    rot = np.array([\n",
    "        [np.cos(angle), -np.sin(angle), 0],\n",
    "        [np.sin(angle), np.cos(angle), 0],\n",
    "        [0, 0, 1]]\n",
    "    )\n",
    "    return rot"
   ]
  },
  {
   "cell_type": "code",
   "execution_count": null,
   "metadata": {},
   "outputs": [],
   "source": [
    "fs_read = cv2.FileStorage(join(FOLDER, \"refined_params.yml\"), cv2.FILE_STORAGE_READ)\n",
    "tag_pts = {}\n",
    "for key in fs_read.root().keys():\n",
    "    node = fs_read.getNode(key)\n",
    "    print(key)\n",
    "    param = [node.at(i).real() for i in range(node.size())]\n",
    "    tag_pt  = np.array([param[0], param[1], 0])[:, np.newaxis]  + getRotation(param[2]).dot(objpts.T.squeeze())\n",
    "    tag_pts[key] = tag_pt"
   ]
  },
  {
   "cell_type": "code",
   "execution_count": null,
   "metadata": {},
   "outputs": [],
   "source": [
    "# 3D Plot\n",
    "fig = plt.figure(figsize=(8, 6))\n",
    "ax = Axes3D(fig)\n",
    "ax.set_xlabel('X')\n",
    "ax.set_ylabel('Y')\n",
    "ax.set_zlabel('Z')\n",
    "#ax.axis('off')\n",
    "c = ['c', 'y', 'b', 'b']\n",
    "\n",
    "# Camera\n",
    "for i in range(4):\n",
    "    colors = ['r', 'g', c[i]]\n",
    "    key = f'originimg{i}'\n",
    "    drawAxis(T[key], 0.3, colors)\n",
    "    \n",
    "# tag\n",
    "for i in range(0, 4):\n",
    "    key = f'tag{i}'\n",
    "    pts = tag_pts[key]\n",
    "    ax.scatter(pts[0], pts[1], zs=pts[2])\n",
    "\n",
    "# Origin\n",
    "drawAxis(scale=0.15)\n",
    "\n",
    "# adjust scale\n",
    "start = np.zeros((3, 3)) - 1.0\n",
    "end = start + 2.0 * np.eye(3)\n",
    "for s, e in zip(start, end):\n",
    "    ax.plot([s[0], e[0]], [s[1], e[1]], [s[2], e[2]], c='none')\n",
    "    \n",
    "\n",
    "\n"
   ]
  },
  {
   "cell_type": "markdown",
   "metadata": {},
   "source": [
    "# Visualize final poses"
   ]
  },
  {
   "cell_type": "code",
   "execution_count": null,
   "metadata": {},
   "outputs": [],
   "source": [
    "fs_read = cv2.FileStorage(join(FOLDER, \"final_camera_poses.yml\"), cv2.FILE_STORAGE_READ)\n",
    "T = {}\n",
    "for key in fs_read.root().keys():\n",
    "    print(key)\n",
    "    T[key] = fs_read.getNode(key).mat()"
   ]
  },
  {
   "cell_type": "code",
   "execution_count": null,
   "metadata": {},
   "outputs": [],
   "source": [
    "# 3D Plot\n",
    "fig = plt.figure(figsize=(8, 6))\n",
    "ax = Axes3D(fig)\n",
    "ax.set_xlabel('X')\n",
    "ax.set_ylabel('Y')\n",
    "ax.set_zlabel('Z')\n",
    "#ax.axis('off')\n",
    "# colors = ['r', 'g', 'b']\n",
    "c = ['c', 'y', 'b', 'b']\n",
    "\n",
    "# Camera\n",
    "for i in range(4):\n",
    "    colors = ['r', 'g', c[i]]\n",
    "    key = f'originimg{i}'\n",
    "    drawAxis(T[key], 0.3, colors)\n",
    "\n",
    "# Origin\n",
    "drawAxis(scale=0.15)\n",
    "\n",
    "# adjust scale\n",
    "start = np.zeros((3, 3)) - 1.0\n",
    "end = start + 2.0 * np.eye(3)\n",
    "for s, e in zip(start, end):\n",
    "    ax.plot([s[0], e[0]], [s[1], e[1]], [s[2], e[2]], c='none')\n",
    "    \n",
    "\n",
    "\n"
   ]
  }
 ],
 "metadata": {
  "kernelspec": {
   "display_name": "Python 3",
   "language": "python",
   "name": "python3"
  },
  "language_info": {
   "codemirror_mode": {
    "name": "ipython",
    "version": 3
   },
   "file_extension": ".py",
   "mimetype": "text/x-python",
   "name": "python",
   "nbconvert_exporter": "python",
   "pygments_lexer": "ipython3",
   "version": "3.7.3"
  },
  "toc": {
   "nav_menu": {},
   "number_sections": true,
   "sideBar": true,
   "skip_h1_title": false,
   "title_cell": "Table of Contents",
   "title_sidebar": "Contents",
   "toc_cell": false,
   "toc_position": {},
   "toc_section_display": true,
   "toc_window_display": false
  },
  "varInspector": {
   "cols": {
    "lenName": 16,
    "lenType": 16,
    "lenVar": 40
   },
   "kernels_config": {
    "python": {
     "delete_cmd_postfix": "",
     "delete_cmd_prefix": "del ",
     "library": "var_list.py",
     "varRefreshCmd": "print(var_dic_list())"
    },
    "r": {
     "delete_cmd_postfix": ") ",
     "delete_cmd_prefix": "rm(",
     "library": "var_list.r",
     "varRefreshCmd": "cat(var_dic_list()) "
    }
   },
   "types_to_exclude": [
    "module",
    "function",
    "builtin_function_or_method",
    "instance",
    "_Feature"
   ],
   "window_display": false
  }
 },
 "nbformat": 4,
 "nbformat_minor": 2
}
